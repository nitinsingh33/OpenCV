{
 "cells": [
  {
   "cell_type": "markdown",
   "metadata": {},
   "source": [
    "## What is OpenCV?\n",
    "* OpenCV is a python open-source library, which  is used for computer vision in Artificial Intelligence, ML, face recognition, etc.\n",
    "\n",
    "* It includes  several hundreds of computer vision algorithms.\n",
    "\n",
    "* It has C++, Python, Java and MATLAB interfaces and supports Windows, Linux, Android and Mac OS.\n",
    "\n",
    "* OpenCV is written natively in C++.\n",
    "\n",
    "* Initial release June 2000: 20 years ago.\n"
   ]
  },
  {
   "cell_type": "markdown",
   "metadata": {},
   "source": [
    "## OpenCV Task\n",
    "\n",
    "    * Object classification\n",
    "    * Object identification\n",
    "    * Object tracking\n",
    "    * Image restoration\n",
    "    * Feature matching\n",
    "    * Video motion analysis\n"
   ]
  }
 ],
 "metadata": {
  "language_info": {
   "name": "python"
  }
 },
 "nbformat": 4,
 "nbformat_minor": 2
}
