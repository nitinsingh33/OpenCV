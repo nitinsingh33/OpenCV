{
 "cells": [
  {
   "cell_type": "markdown",
   "metadata": {},
   "source": [
    "### What is OpenCV?\n",
    "* OpenCV is a python open-source library, which  is used for computer vision in Artificial Intelligence, ML, face recognition, etc.\n",
    "\n",
    "* It includes  several hundreds of computer vision algorithms.\n",
    "\n",
    "* It has C++, Python, Java and MATLAB interfaces and supports Windows, Linux, Android and Mac OS.\n",
    "\n",
    "* OpenCV is written natively in C++.\n",
    "\n",
    "* Initial release June 2000: 20 years ago.\n"
   ]
  },
  {
   "cell_type": "markdown",
   "metadata": {},
   "source": [
    "### OpenCV Task\n",
    "\n",
    "    * Object classification\n",
    "    * Object identification\n",
    "    * Object tracking\n",
    "    * Image restoration\n",
    "    * Feature matching\n",
    "    * Video motion analysis\n"
   ]
  },
  {
   "cell_type": "markdown",
   "metadata": {},
   "source": [
    "### How OpenCV Works?\n",
    "\n",
    "There are two common ways to indentify the images:\n",
    "\n",
    "**1. Grayscale**   \n",
    "**2. RGB**"
   ]
  }
 ],
 "metadata": {
  "language_info": {
   "name": "python"
  }
 },
 "nbformat": 4,
 "nbformat_minor": 2
}
